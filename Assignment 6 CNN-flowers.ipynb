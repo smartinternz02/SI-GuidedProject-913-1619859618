{
 "cells": [
  {
   "cell_type": "markdown",
   "metadata": {},
   "source": [
    "# 20R15A0508 Mounika Assignment 6 CNN-flowers"
   ]
  },
  {
   "cell_type": "code",
   "execution_count": 1,
   "metadata": {},
   "outputs": [],
   "source": [
    "from tensorflow.keras.models import Sequential\n",
    "from tensorflow.keras.layers import Dense\n",
    "from tensorflow.keras.layers import Convolution2D\n",
    "from tensorflow.keras.layers import MaxPooling2D\n",
    "from tensorflow.keras.layers import Flatten"
   ]
  },
  {
   "cell_type": "code",
   "execution_count": 2,
   "metadata": {},
   "outputs": [
    {
     "name": "stderr",
     "output_type": "stream",
     "text": [
      "Using TensorFlow backend.\n"
     ]
    }
   ],
   "source": [
    "from keras.preprocessing.image import ImageDataGenerator\n",
    "train_datagen = ImageDataGenerator(rescale = 1./255,shear_range = 0.2,zoom_range = 0.2,horizontal_flip =True)\n",
    "test_datagen = ImageDataGenerator(rescale = 1./255)"
   ]
  },
  {
   "cell_type": "code",
   "execution_count": 3,
   "metadata": {},
   "outputs": [
    {
     "name": "stdout",
     "output_type": "stream",
     "text": [
      "Found 3540 images belonging to 5 classes.\n",
      "Found 50 images belonging to 5 classes.\n"
     ]
    }
   ],
   "source": [
    "x_train = train_datagen.flow_from_directory(r\"E:\\flowers\\flowers\\flower_photos\\train\",target_size = (64,64),batch_size = 32,class_mode = \"categorical\")\n",
    "x_test = test_datagen.flow_from_directory(r\"E:\\flowers\\flowers\\flower_photos\\test\",target_size = (64,64),batch_size = 32,class_mode = \"categorical\")"
   ]
  },
  {
   "cell_type": "code",
   "execution_count": 4,
   "metadata": {},
   "outputs": [],
   "source": [
    "model = Sequential()"
   ]
  },
  {
   "cell_type": "code",
   "execution_count": 5,
   "metadata": {},
   "outputs": [],
   "source": [
    "model.add(Convolution2D(32,(3,3),input_shape = (64,64,3),activation = \"relu\"))"
   ]
  },
  {
   "cell_type": "code",
   "execution_count": 6,
   "metadata": {},
   "outputs": [],
   "source": [
    "model.add(MaxPooling2D(2,2))"
   ]
  },
  {
   "cell_type": "code",
   "execution_count": 7,
   "metadata": {},
   "outputs": [],
   "source": [
    "model.add(Flatten())"
   ]
  },
  {
   "cell_type": "code",
   "execution_count": 8,
   "metadata": {},
   "outputs": [],
   "source": [
    "model.add(Dense(units = 512,activation = \"relu\",kernel_initializer = \"random_uniform\"))"
   ]
  },
  {
   "cell_type": "code",
   "execution_count": 9,
   "metadata": {},
   "outputs": [],
   "source": [
    "model.add(Dense(units=5,activation=\"softmax\",kernel_initializer=\"random_uniform\"))"
   ]
  },
  {
   "cell_type": "code",
   "execution_count": 10,
   "metadata": {},
   "outputs": [],
   "source": [
    "model.compile(\"sgd\",loss=\"categorical_crossentropy\",metrics=[\"accuracy\"])"
   ]
  },
  {
   "cell_type": "code",
   "execution_count": 11,
   "metadata": {},
   "outputs": [
    {
     "name": "stderr",
     "output_type": "stream",
     "text": [
      "C:\\Users\\YaswanthMounika\\Anaconda3\\lib\\site-packages\\tensorflow\\python\\keras\\engine\\training.py:1844: UserWarning: `Model.fit_generator` is deprecated and will be removed in a future version. Please use `Model.fit`, which supports generators.\n",
      "  warnings.warn('`Model.fit_generator` is deprecated and '\n"
     ]
    },
    {
     "name": "stdout",
     "output_type": "stream",
     "text": [
      "Epoch 1/200\n",
      "45/45 [==============================] - ETA: 0s - loss: 1.6061 - accuracy: 0.2089WARNING:tensorflow:Your input ran out of data; interrupting training. Make sure that your dataset or generator can generate at least `steps_per_epoch * epochs` batches (in this case, 20 batches). You may need to use the repeat() function when building your dataset.\n",
      "45/45 [==============================] - 22s 464ms/step - loss: 1.6055 - accuracy: 0.2099 - val_loss: 1.5497 - val_accuracy: 0.3000\n",
      "Epoch 2/200\n",
      "45/45 [==============================] - 25s 544ms/step - loss: 1.5080 - accuracy: 0.3097\n",
      "Epoch 3/200\n",
      "45/45 [==============================] - 29s 630ms/step - loss: 1.4123 - accuracy: 0.3942\n",
      "Epoch 4/200\n",
      "45/45 [==============================] - 39s 872ms/step - loss: 1.3432 - accuracy: 0.4142\n",
      "Epoch 5/200\n",
      "45/45 [==============================] - 40s 896ms/step - loss: 1.2993 - accuracy: 0.4279\n",
      "Epoch 6/200\n",
      "45/45 [==============================] - 39s 878ms/step - loss: 1.2576 - accuracy: 0.4436\n",
      "Epoch 7/200\n",
      "45/45 [==============================] - 21s 442ms/step - loss: 1.2743 - accuracy: 0.4475\n",
      "Epoch 8/200\n",
      "45/45 [==============================] - 17s 367ms/step - loss: 1.1978 - accuracy: 0.4911\n",
      "Epoch 9/200\n",
      "45/45 [==============================] - 16s 342ms/step - loss: 1.1999 - accuracy: 0.4870\n",
      "Epoch 10/200\n",
      "45/45 [==============================] - 15s 321ms/step - loss: 1.2330 - accuracy: 0.4920\n",
      "Epoch 11/200\n",
      "45/45 [==============================] - 14s 317ms/step - loss: 1.1493 - accuracy: 0.5253\n",
      "Epoch 12/200\n",
      "45/45 [==============================] - 13s 284ms/step - loss: 1.1782 - accuracy: 0.5142\n",
      "Epoch 13/200\n",
      "45/45 [==============================] - 13s 294ms/step - loss: 1.2083 - accuracy: 0.4840\n",
      "Epoch 14/200\n",
      "45/45 [==============================] - 14s 310ms/step - loss: 1.1298 - accuracy: 0.5195\n",
      "Epoch 15/200\n",
      "45/45 [==============================] - 14s 299ms/step - loss: 1.1237 - accuracy: 0.5702\n",
      "Epoch 16/200\n",
      "45/45 [==============================] - 15s 323ms/step - loss: 1.1201 - accuracy: 0.5373\n",
      "Epoch 17/200\n",
      "45/45 [==============================] - 15s 321ms/step - loss: 1.1273 - accuracy: 0.5243\n",
      "Epoch 18/200\n",
      "45/45 [==============================] - 13s 294ms/step - loss: 1.1012 - accuracy: 0.5218\n",
      "Epoch 19/200\n",
      "45/45 [==============================] - 14s 311ms/step - loss: 1.1017 - accuracy: 0.5483\n",
      "Epoch 20/200\n",
      "45/45 [==============================] - 13s 278ms/step - loss: 1.0912 - accuracy: 0.5954\n",
      "Epoch 21/200\n",
      "45/45 [==============================] - 12s 274ms/step - loss: 1.0265 - accuracy: 0.5735\n",
      "Epoch 22/200\n",
      "45/45 [==============================] - 13s 293ms/step - loss: 1.0731 - accuracy: 0.5737\n",
      "Epoch 23/200\n",
      "45/45 [==============================] - 12s 275ms/step - loss: 1.0413 - accuracy: 0.5841\n",
      "Epoch 24/200\n",
      "45/45 [==============================] - 12s 274ms/step - loss: 1.0426 - accuracy: 0.5835\n",
      "Epoch 25/200\n",
      "45/45 [==============================] - 13s 275ms/step - loss: 1.0819 - accuracy: 0.5736\n",
      "Epoch 26/200\n",
      "45/45 [==============================] - 13s 276ms/step - loss: 1.0475 - accuracy: 0.5891\n",
      "Epoch 27/200\n",
      "45/45 [==============================] - 12s 274ms/step - loss: 0.9869 - accuracy: 0.6050\n",
      "Epoch 28/200\n",
      "45/45 [==============================] - 12s 271ms/step - loss: 1.0340 - accuracy: 0.5973\n",
      "Epoch 29/200\n",
      "45/45 [==============================] - 13s 276ms/step - loss: 1.0205 - accuracy: 0.5999\n",
      "Epoch 30/200\n",
      "45/45 [==============================] - 13s 279ms/step - loss: 1.0190 - accuracy: 0.6062\n",
      "Epoch 31/200\n",
      "45/45 [==============================] - 14s 306ms/step - loss: 1.0015 - accuracy: 0.6232\n",
      "Epoch 32/200\n",
      "45/45 [==============================] - 13s 275ms/step - loss: 0.9980 - accuracy: 0.6296\n",
      "Epoch 33/200\n",
      "45/45 [==============================] - 13s 280ms/step - loss: 0.9968 - accuracy: 0.5998\n",
      "Epoch 34/200\n",
      "45/45 [==============================] - 13s 277ms/step - loss: 0.9793 - accuracy: 0.6091\n",
      "Epoch 35/200\n",
      "45/45 [==============================] - 13s 295ms/step - loss: 1.0027 - accuracy: 0.6155\n",
      "Epoch 36/200\n",
      "45/45 [==============================] - 14s 318ms/step - loss: 0.9815 - accuracy: 0.6363\n",
      "Epoch 37/200\n",
      "45/45 [==============================] - 13s 275ms/step - loss: 0.9631 - accuracy: 0.6109\n",
      "Epoch 38/200\n",
      "45/45 [==============================] - 12s 275ms/step - loss: 0.9168 - accuracy: 0.6533\n",
      "Epoch 39/200\n",
      "45/45 [==============================] - 13s 277ms/step - loss: 0.9345 - accuracy: 0.6535\n",
      "Epoch 40/200\n",
      "45/45 [==============================] - 13s 275ms/step - loss: 0.9609 - accuracy: 0.6445\n",
      "Epoch 41/200\n",
      "45/45 [==============================] - 13s 277ms/step - loss: 0.9848 - accuracy: 0.6156\n",
      "Epoch 42/200\n",
      "45/45 [==============================] - 12s 275ms/step - loss: 0.9132 - accuracy: 0.6463\n",
      "Epoch 43/200\n",
      "45/45 [==============================] - 13s 276ms/step - loss: 0.9236 - accuracy: 0.6526\n",
      "Epoch 44/200\n",
      "45/45 [==============================] - 12s 273ms/step - loss: 0.9730 - accuracy: 0.6371\n",
      "Epoch 45/200\n",
      "45/45 [==============================] - 12s 274ms/step - loss: 0.9885 - accuracy: 0.6026\n",
      "Epoch 46/200\n",
      "45/45 [==============================] - 13s 276ms/step - loss: 0.9313 - accuracy: 0.6503\n",
      "Epoch 47/200\n",
      "45/45 [==============================] - 12s 273ms/step - loss: 0.9029 - accuracy: 0.6701\n",
      "Epoch 48/200\n",
      "45/45 [==============================] - 13s 280ms/step - loss: 0.9593 - accuracy: 0.6226\n",
      "Epoch 49/200\n",
      "45/45 [==============================] - 13s 281ms/step - loss: 0.9032 - accuracy: 0.6346\n",
      "Epoch 50/200\n",
      "45/45 [==============================] - 12s 274ms/step - loss: 0.8745 - accuracy: 0.6616\n",
      "Epoch 51/200\n",
      "45/45 [==============================] - 13s 276ms/step - loss: 0.9453 - accuracy: 0.6297\n",
      "Epoch 52/200\n",
      "45/45 [==============================] - 13s 292ms/step - loss: 0.9004 - accuracy: 0.6686\n",
      "Epoch 53/200\n",
      "45/45 [==============================] - 13s 278ms/step - loss: 0.9082 - accuracy: 0.6427\n",
      "Epoch 54/200\n",
      "45/45 [==============================] - 13s 276ms/step - loss: 0.8931 - accuracy: 0.6656\n",
      "Epoch 55/200\n",
      "45/45 [==============================] - 12s 272ms/step - loss: 0.8867 - accuracy: 0.6673\n",
      "Epoch 56/200\n",
      "45/45 [==============================] - 12s 272ms/step - loss: 0.8692 - accuracy: 0.6705\n",
      "Epoch 57/200\n",
      "45/45 [==============================] - 13s 276ms/step - loss: 0.8955 - accuracy: 0.6463\n",
      "Epoch 58/200\n",
      "45/45 [==============================] - 12s 275ms/step - loss: 0.8833 - accuracy: 0.6590\n",
      "Epoch 59/200\n",
      "45/45 [==============================] - 13s 276ms/step - loss: 0.8835 - accuracy: 0.6579\n",
      "Epoch 60/200\n",
      "45/45 [==============================] - 12s 275ms/step - loss: 0.7804 - accuracy: 0.7184\n",
      "Epoch 61/200\n",
      "45/45 [==============================] - 12s 273ms/step - loss: 0.8162 - accuracy: 0.6802\n",
      "Epoch 62/200\n",
      "45/45 [==============================] - 12s 271ms/step - loss: 0.8412 - accuracy: 0.6631\n",
      "Epoch 63/200\n",
      "45/45 [==============================] - 13s 276ms/step - loss: 0.8242 - accuracy: 0.6927\n",
      "Epoch 64/200\n",
      "45/45 [==============================] - 12s 274ms/step - loss: 0.8288 - accuracy: 0.6820\n",
      "Epoch 65/200\n",
      "45/45 [==============================] - 12s 272ms/step - loss: 0.8389 - accuracy: 0.6815\n",
      "Epoch 66/200\n",
      "45/45 [==============================] - 12s 274ms/step - loss: 0.8195 - accuracy: 0.6859\n",
      "Epoch 67/200\n",
      "45/45 [==============================] - 13s 276ms/step - loss: 0.8089 - accuracy: 0.6904\n",
      "Epoch 68/200\n",
      "45/45 [==============================] - 12s 276ms/step - loss: 0.8195 - accuracy: 0.6921\n",
      "Epoch 69/200\n",
      "45/45 [==============================] - 12s 271ms/step - loss: 0.8060 - accuracy: 0.7035\n",
      "Epoch 70/200\n",
      "45/45 [==============================] - 12s 272ms/step - loss: 0.7994 - accuracy: 0.7106\n",
      "Epoch 71/200\n",
      "45/45 [==============================] - 12s 274ms/step - loss: 0.8011 - accuracy: 0.7003\n",
      "Epoch 72/200\n",
      "45/45 [==============================] - 13s 278ms/step - loss: 0.7883 - accuracy: 0.7088\n",
      "Epoch 73/200\n",
      "45/45 [==============================] - 13s 283ms/step - loss: 0.8531 - accuracy: 0.6685\n",
      "Epoch 74/200\n",
      "45/45 [==============================] - 12s 272ms/step - loss: 0.8077 - accuracy: 0.6883\n",
      "Epoch 75/200\n",
      "45/45 [==============================] - 12s 271ms/step - loss: 0.8163 - accuracy: 0.6977\n",
      "Epoch 76/200\n"
     ]
    },
    {
     "name": "stdout",
     "output_type": "stream",
     "text": [
      "45/45 [==============================] - 12s 272ms/step - loss: 0.7629 - accuracy: 0.7072\n",
      "Epoch 77/200\n",
      "45/45 [==============================] - 13s 289ms/step - loss: 0.7706 - accuracy: 0.7028\n",
      "Epoch 78/200\n",
      "45/45 [==============================] - 14s 301ms/step - loss: 0.7741 - accuracy: 0.7221\n",
      "Epoch 79/200\n",
      "45/45 [==============================] - 13s 284ms/step - loss: 0.7704 - accuracy: 0.6914\n",
      "Epoch 80/200\n",
      "45/45 [==============================] - 13s 295ms/step - loss: 0.7926 - accuracy: 0.6966\n",
      "Epoch 81/200\n",
      "45/45 [==============================] - 14s 311ms/step - loss: 0.7847 - accuracy: 0.7012\n",
      "Epoch 82/200\n",
      "45/45 [==============================] - 16s 343ms/step - loss: 0.7944 - accuracy: 0.6696\n",
      "Epoch 83/200\n",
      "45/45 [==============================] - 15s 326ms/step - loss: 0.7849 - accuracy: 0.7046\n",
      "Epoch 84/200\n",
      "45/45 [==============================] - 18s 392ms/step - loss: 0.7484 - accuracy: 0.7285\n",
      "Epoch 85/200\n",
      "45/45 [==============================] - 22s 485ms/step - loss: 0.7576 - accuracy: 0.7010\n",
      "Epoch 86/200\n",
      "45/45 [==============================] - 26s 569ms/step - loss: 0.7809 - accuracy: 0.7322\n",
      "Epoch 87/200\n",
      "45/45 [==============================] - 24s 528ms/step - loss: 0.7263 - accuracy: 0.7283\n",
      "Epoch 88/200\n",
      "45/45 [==============================] - 16s 343ms/step - loss: 0.6981 - accuracy: 0.7318\n",
      "Epoch 89/200\n",
      "45/45 [==============================] - 14s 316ms/step - loss: 0.7559 - accuracy: 0.7059\n",
      "Epoch 90/200\n",
      "45/45 [==============================] - 13s 296ms/step - loss: 0.7302 - accuracy: 0.7285\n",
      "Epoch 91/200\n",
      "45/45 [==============================] - 13s 293ms/step - loss: 0.7272 - accuracy: 0.7286\n",
      "Epoch 92/200\n",
      "45/45 [==============================] - 15s 337ms/step - loss: 0.7281 - accuracy: 0.7106\n",
      "Epoch 93/200\n",
      "45/45 [==============================] - 14s 307ms/step - loss: 0.7519 - accuracy: 0.7148\n",
      "Epoch 94/200\n",
      "45/45 [==============================] - 13s 291ms/step - loss: 0.7163 - accuracy: 0.7244\n",
      "Epoch 95/200\n",
      "45/45 [==============================] - 13s 292ms/step - loss: 0.7205 - accuracy: 0.7177\n",
      "Epoch 96/200\n",
      "45/45 [==============================] - 14s 309ms/step - loss: 0.7229 - accuracy: 0.7376\n",
      "Epoch 97/200\n",
      "45/45 [==============================] - 12s 274ms/step - loss: 0.7459 - accuracy: 0.7013\n",
      "Epoch 98/200\n",
      "45/45 [==============================] - 13s 278ms/step - loss: 0.7182 - accuracy: 0.7380\n",
      "Epoch 99/200\n",
      "45/45 [==============================] - 13s 277ms/step - loss: 0.6999 - accuracy: 0.7534\n",
      "Epoch 100/200\n",
      "45/45 [==============================] - 13s 278ms/step - loss: 0.6659 - accuracy: 0.7512\n",
      "Epoch 101/200\n",
      "45/45 [==============================] - 12s 273ms/step - loss: 0.7250 - accuracy: 0.7371\n",
      "Epoch 102/200\n",
      "45/45 [==============================] - 12s 275ms/step - loss: 0.7031 - accuracy: 0.7267\n",
      "Epoch 103/200\n",
      "45/45 [==============================] - 12s 271ms/step - loss: 0.6976 - accuracy: 0.7398\n",
      "Epoch 104/200\n",
      "45/45 [==============================] - 12s 274ms/step - loss: 0.6984 - accuracy: 0.7294\n",
      "Epoch 105/200\n",
      "45/45 [==============================] - 12s 273ms/step - loss: 0.7082 - accuracy: 0.7371\n",
      "Epoch 106/200\n",
      "45/45 [==============================] - 12s 273ms/step - loss: 0.6674 - accuracy: 0.7502\n",
      "Epoch 107/200\n",
      "45/45 [==============================] - 12s 273ms/step - loss: 0.6586 - accuracy: 0.7500\n",
      "Epoch 108/200\n",
      "45/45 [==============================] - 12s 271ms/step - loss: 0.6597 - accuracy: 0.7439\n",
      "Epoch 109/200\n",
      "45/45 [==============================] - 12s 274ms/step - loss: 0.6875 - accuracy: 0.7365\n",
      "Epoch 110/200\n",
      "45/45 [==============================] - 12s 273ms/step - loss: 0.5840 - accuracy: 0.7758\n",
      "Epoch 111/200\n",
      "45/45 [==============================] - 12s 273ms/step - loss: 0.6639 - accuracy: 0.7565\n",
      "Epoch 112/200\n",
      "45/45 [==============================] - 13s 291ms/step - loss: 0.6531 - accuracy: 0.7443\n",
      "Epoch 113/200\n",
      "45/45 [==============================] - 13s 275ms/step - loss: 0.6136 - accuracy: 0.7566\n",
      "Epoch 114/200\n",
      "45/45 [==============================] - 13s 277ms/step - loss: 0.6350 - accuracy: 0.7524\n",
      "Epoch 115/200\n",
      "45/45 [==============================] - 12s 274ms/step - loss: 0.5979 - accuracy: 0.7691\n",
      "Epoch 116/200\n",
      "45/45 [==============================] - 13s 286ms/step - loss: 0.6165 - accuracy: 0.7741\n",
      "Epoch 117/200\n",
      "45/45 [==============================] - 13s 282ms/step - loss: 0.6188 - accuracy: 0.7599\n",
      "Epoch 118/200\n",
      "45/45 [==============================] - 12s 272ms/step - loss: 0.5942 - accuracy: 0.7634\n",
      "Epoch 119/200\n",
      "45/45 [==============================] - 13s 290ms/step - loss: 0.6427 - accuracy: 0.7578\n",
      "Epoch 120/200\n",
      "45/45 [==============================] - 14s 305ms/step - loss: 0.6428 - accuracy: 0.7543\n",
      "Epoch 121/200\n",
      "45/45 [==============================] - 15s 328ms/step - loss: 0.6406 - accuracy: 0.7648\n",
      "Epoch 122/200\n",
      "45/45 [==============================] - 14s 310ms/step - loss: 0.6215 - accuracy: 0.7760\n",
      "Epoch 123/200\n",
      "45/45 [==============================] - 14s 297ms/step - loss: 0.6526 - accuracy: 0.7556\n",
      "Epoch 124/200\n",
      "45/45 [==============================] - 14s 308ms/step - loss: 0.6095 - accuracy: 0.7701\n",
      "Epoch 125/200\n",
      "45/45 [==============================] - 13s 284ms/step - loss: 0.6080 - accuracy: 0.7677\n",
      "Epoch 126/200\n",
      "45/45 [==============================] - 14s 302ms/step - loss: 0.5776 - accuracy: 0.7988\n",
      "Epoch 127/200\n",
      "45/45 [==============================] - 13s 284ms/step - loss: 0.5812 - accuracy: 0.7907\n",
      "Epoch 128/200\n",
      "45/45 [==============================] - 13s 289ms/step - loss: 0.6162 - accuracy: 0.7799\n",
      "Epoch 129/200\n",
      "45/45 [==============================] - 14s 298ms/step - loss: 0.6207 - accuracy: 0.7702\n",
      "Epoch 130/200\n",
      "45/45 [==============================] - 13s 284ms/step - loss: 0.5897 - accuracy: 0.7830\n",
      "Epoch 131/200\n",
      "45/45 [==============================] - 13s 281ms/step - loss: 0.6256 - accuracy: 0.7737\n",
      "Epoch 132/200\n",
      "45/45 [==============================] - 14s 314ms/step - loss: 0.5884 - accuracy: 0.7651\n",
      "Epoch 133/200\n",
      "45/45 [==============================] - 15s 331ms/step - loss: 0.5679 - accuracy: 0.7719\n",
      "Epoch 134/200\n",
      "45/45 [==============================] - 13s 283ms/step - loss: 0.6331 - accuracy: 0.7475\n",
      "Epoch 135/200\n",
      "45/45 [==============================] - 13s 285ms/step - loss: 0.5735 - accuracy: 0.7802\n",
      "Epoch 136/200\n",
      "45/45 [==============================] - 14s 301ms/step - loss: 0.6178 - accuracy: 0.7479\n",
      "Epoch 137/200\n",
      "45/45 [==============================] - 13s 296ms/step - loss: 0.5880 - accuracy: 0.7731\n",
      "Epoch 138/200\n",
      "45/45 [==============================] - 13s 295ms/step - loss: 0.5578 - accuracy: 0.7939\n",
      "Epoch 139/200\n",
      "45/45 [==============================] - 14s 301ms/step - loss: 0.5524 - accuracy: 0.8034\n",
      "Epoch 140/200\n",
      "45/45 [==============================] - 13s 279ms/step - loss: 0.5763 - accuracy: 0.7738\n",
      "Epoch 141/200\n",
      "45/45 [==============================] - 13s 280ms/step - loss: 0.5845 - accuracy: 0.7766\n",
      "Epoch 142/200\n",
      "45/45 [==============================] - 13s 280ms/step - loss: 0.5862 - accuracy: 0.7723\n",
      "Epoch 143/200\n",
      "45/45 [==============================] - 13s 285ms/step - loss: 0.5565 - accuracy: 0.7866\n",
      "Epoch 144/200\n",
      "45/45 [==============================] - 13s 282ms/step - loss: 0.6040 - accuracy: 0.7807\n",
      "Epoch 145/200\n",
      "45/45 [==============================] - 13s 287ms/step - loss: 0.5366 - accuracy: 0.8048\n",
      "Epoch 146/200\n",
      "45/45 [==============================] - 13s 285ms/step - loss: 0.5613 - accuracy: 0.8038\n",
      "Epoch 147/200\n",
      "45/45 [==============================] - 14s 319ms/step - loss: 0.5468 - accuracy: 0.8034\n",
      "Epoch 148/200\n",
      "45/45 [==============================] - 13s 284ms/step - loss: 0.5832 - accuracy: 0.7752\n",
      "Epoch 149/200\n",
      "45/45 [==============================] - 13s 286ms/step - loss: 0.5414 - accuracy: 0.7979\n",
      "Epoch 150/200\n",
      "45/45 [==============================] - 13s 277ms/step - loss: 0.5336 - accuracy: 0.8123\n",
      "Epoch 151/200\n",
      "45/45 [==============================] - 13s 283ms/step - loss: 0.4816 - accuracy: 0.8320\n",
      "Epoch 152/200\n",
      "45/45 [==============================] - 13s 280ms/step - loss: 0.4804 - accuracy: 0.8313\n",
      "Epoch 153/200\n",
      "45/45 [==============================] - 14s 317ms/step - loss: 0.5314 - accuracy: 0.8055\n",
      "Epoch 154/200\n",
      "45/45 [==============================] - 14s 302ms/step - loss: 0.5725 - accuracy: 0.8113\n",
      "Epoch 155/200\n"
     ]
    },
    {
     "name": "stdout",
     "output_type": "stream",
     "text": [
      "45/45 [==============================] - 14s 304ms/step - loss: 0.4976 - accuracy: 0.8191\n",
      "Epoch 156/200\n",
      "45/45 [==============================] - 13s 289ms/step - loss: 0.4724 - accuracy: 0.8341\n",
      "Epoch 157/200\n",
      "45/45 [==============================] - 13s 294ms/step - loss: 0.5235 - accuracy: 0.8095\n",
      "Epoch 158/200\n",
      "45/45 [==============================] - 14s 319ms/step - loss: 0.4672 - accuracy: 0.8222\n",
      "Epoch 159/200\n",
      "45/45 [==============================] - 14s 304ms/step - loss: 0.4914 - accuracy: 0.8214\n",
      "Epoch 160/200\n",
      "45/45 [==============================] - 15s 334ms/step - loss: 0.5492 - accuracy: 0.8061\n",
      "Epoch 161/200\n",
      "45/45 [==============================] - 13s 283ms/step - loss: 0.5091 - accuracy: 0.8230\n",
      "Epoch 162/200\n",
      "45/45 [==============================] - 14s 299ms/step - loss: 0.4585 - accuracy: 0.8269\n",
      "Epoch 163/200\n",
      "45/45 [==============================] - 14s 311ms/step - loss: 0.5039 - accuracy: 0.8130\n",
      "Epoch 164/200\n",
      "45/45 [==============================] - 13s 281ms/step - loss: 0.4818 - accuracy: 0.8165\n",
      "Epoch 165/200\n",
      "45/45 [==============================] - 13s 278ms/step - loss: 0.4690 - accuracy: 0.8396\n",
      "Epoch 166/200\n",
      "45/45 [==============================] - 13s 296ms/step - loss: 0.4886 - accuracy: 0.8268\n",
      "Epoch 167/200\n",
      "45/45 [==============================] - 14s 301ms/step - loss: 0.4969 - accuracy: 0.8268\n",
      "Epoch 168/200\n",
      "45/45 [==============================] - 14s 313ms/step - loss: 0.5030 - accuracy: 0.8150\n",
      "Epoch 169/200\n",
      "45/45 [==============================] - 13s 295ms/step - loss: 0.4694 - accuracy: 0.8199\n",
      "Epoch 170/200\n",
      "45/45 [==============================] - 13s 286ms/step - loss: 0.4432 - accuracy: 0.8375\n",
      "Epoch 171/200\n",
      "45/45 [==============================] - 13s 286ms/step - loss: 0.4722 - accuracy: 0.8286\n",
      "Epoch 172/200\n",
      "45/45 [==============================] - 13s 282ms/step - loss: 0.4472 - accuracy: 0.8438\n",
      "Epoch 173/200\n",
      "45/45 [==============================] - 13s 290ms/step - loss: 0.4407 - accuracy: 0.8336\n",
      "Epoch 174/200\n",
      "45/45 [==============================] - 13s 295ms/step - loss: 0.4539 - accuracy: 0.8384\n",
      "Epoch 175/200\n",
      "45/45 [==============================] - 15s 328ms/step - loss: 0.4522 - accuracy: 0.8432\n",
      "Epoch 176/200\n",
      "45/45 [==============================] - 14s 306ms/step - loss: 0.4735 - accuracy: 0.8310\n",
      "Epoch 177/200\n",
      "45/45 [==============================] - 15s 320ms/step - loss: 0.4566 - accuracy: 0.8370\n",
      "Epoch 178/200\n",
      "45/45 [==============================] - 13s 288ms/step - loss: 0.4616 - accuracy: 0.8245\n",
      "Epoch 179/200\n",
      "45/45 [==============================] - 13s 288ms/step - loss: 0.4113 - accuracy: 0.8553\n",
      "Epoch 180/200\n",
      "45/45 [==============================] - 14s 299ms/step - loss: 0.4475 - accuracy: 0.8329\n",
      "Epoch 181/200\n",
      "45/45 [==============================] - 13s 289ms/step - loss: 0.4186 - accuracy: 0.8440\n",
      "Epoch 182/200\n",
      "45/45 [==============================] - 13s 289ms/step - loss: 0.4766 - accuracy: 0.8235\n",
      "Epoch 183/200\n",
      "45/45 [==============================] - 14s 300ms/step - loss: 0.4228 - accuracy: 0.8479\n",
      "Epoch 184/200\n",
      "45/45 [==============================] - 13s 288ms/step - loss: 0.4062 - accuracy: 0.8581\n",
      "Epoch 185/200\n",
      "45/45 [==============================] - 13s 281ms/step - loss: 0.3859 - accuracy: 0.8704\n",
      "Epoch 186/200\n",
      "45/45 [==============================] - 13s 292ms/step - loss: 0.4105 - accuracy: 0.8521\n",
      "Epoch 187/200\n",
      "45/45 [==============================] - 13s 289ms/step - loss: 0.4175 - accuracy: 0.8461\n",
      "Epoch 188/200\n",
      "45/45 [==============================] - 14s 302ms/step - loss: 0.4377 - accuracy: 0.8304\n",
      "Epoch 189/200\n",
      "45/45 [==============================] - 14s 301ms/step - loss: 0.3935 - accuracy: 0.8634\n",
      "Epoch 190/200\n",
      "45/45 [==============================] - 14s 300ms/step - loss: 0.4241 - accuracy: 0.8554\n",
      "Epoch 191/200\n",
      "45/45 [==============================] - 13s 281ms/step - loss: 0.3962 - accuracy: 0.8622\n",
      "Epoch 192/200\n",
      "45/45 [==============================] - 13s 280ms/step - loss: 0.4261 - accuracy: 0.8546\n",
      "Epoch 193/200\n",
      "45/45 [==============================] - 13s 281ms/step - loss: 0.3800 - accuracy: 0.8667\n",
      "Epoch 194/200\n",
      "45/45 [==============================] - 13s 279ms/step - loss: 0.4583 - accuracy: 0.8397\n",
      "Epoch 195/200\n",
      "45/45 [==============================] - 13s 286ms/step - loss: 0.3700 - accuracy: 0.8794\n",
      "Epoch 196/200\n",
      "45/45 [==============================] - 13s 282ms/step - loss: 0.3775 - accuracy: 0.8710\n",
      "Epoch 197/200\n",
      "45/45 [==============================] - 13s 283ms/step - loss: 0.3441 - accuracy: 0.8833\n",
      "Epoch 198/200\n",
      "45/45 [==============================] - 14s 300ms/step - loss: 0.4199 - accuracy: 0.8493\n",
      "Epoch 199/200\n",
      "45/45 [==============================] - 13s 293ms/step - loss: 0.4159 - accuracy: 0.8516\n",
      "Epoch 200/200\n",
      "45/45 [==============================] - 13s 297ms/step - loss: 0.3925 - accuracy: 0.8479\n"
     ]
    },
    {
     "data": {
      "text/plain": [
       "<tensorflow.python.keras.callbacks.History at 0x14f74a60978>"
      ]
     },
     "execution_count": 11,
     "metadata": {},
     "output_type": "execute_result"
    }
   ],
   "source": [
    "model.fit_generator(x_train,steps_per_epoch = 45,epochs =200,validation_data = x_test,validation_steps = 20)"
   ]
  },
  {
   "cell_type": "code",
   "execution_count": 12,
   "metadata": {},
   "outputs": [],
   "source": [
    "model.save(\"flowers.h5\")"
   ]
  },
  {
   "cell_type": "code",
   "execution_count": 13,
   "metadata": {},
   "outputs": [],
   "source": [
    "from tensorflow.keras.models import load_model\n",
    "from tensorflow.keras.preprocessing import image\n",
    "import cv2\n",
    "import numpy as np"
   ]
  },
  {
   "cell_type": "code",
   "execution_count": 14,
   "metadata": {},
   "outputs": [],
   "source": [
    "index=[\"daisy\",\"dandelion\",\"rose\",\"sunflower\",\"tulip\"]"
   ]
  },
  {
   "cell_type": "code",
   "execution_count": 15,
   "metadata": {},
   "outputs": [],
   "source": [
    "model=load_model(\"flowers.h5\")"
   ]
  },
  {
   "cell_type": "code",
   "execution_count": 16,
   "metadata": {},
   "outputs": [],
   "source": [
    "img=image.load_img(\"sunflower.jpg\",target_size=(64,64))"
   ]
  },
  {
   "cell_type": "code",
   "execution_count": 17,
   "metadata": {},
   "outputs": [
    {
     "data": {
      "text/plain": [
       "PIL.Image.Image"
      ]
     },
     "execution_count": 17,
     "metadata": {},
     "output_type": "execute_result"
    }
   ],
   "source": [
    "type(img)"
   ]
  },
  {
   "cell_type": "code",
   "execution_count": 18,
   "metadata": {},
   "outputs": [],
   "source": [
    "x=image.img_to_array(img)"
   ]
  },
  {
   "cell_type": "code",
   "execution_count": 19,
   "metadata": {},
   "outputs": [
    {
     "data": {
      "text/plain": [
       "numpy.ndarray"
      ]
     },
     "execution_count": 19,
     "metadata": {},
     "output_type": "execute_result"
    }
   ],
   "source": [
    "type(x)"
   ]
  },
  {
   "cell_type": "code",
   "execution_count": 20,
   "metadata": {},
   "outputs": [
    {
     "data": {
      "text/plain": [
       "(64, 64, 3)"
      ]
     },
     "execution_count": 20,
     "metadata": {},
     "output_type": "execute_result"
    }
   ],
   "source": [
    "x.shape"
   ]
  },
  {
   "cell_type": "code",
   "execution_count": 21,
   "metadata": {},
   "outputs": [],
   "source": [
    "x=np.expand_dims(x,axis=0)"
   ]
  },
  {
   "cell_type": "code",
   "execution_count": 22,
   "metadata": {},
   "outputs": [
    {
     "data": {
      "text/plain": [
       "(1, 64, 64, 3)"
      ]
     },
     "execution_count": 22,
     "metadata": {},
     "output_type": "execute_result"
    }
   ],
   "source": [
    "x.shape"
   ]
  },
  {
   "cell_type": "code",
   "execution_count": 23,
   "metadata": {},
   "outputs": [
    {
     "name": "stderr",
     "output_type": "stream",
     "text": [
      "C:\\Users\\YaswanthMounika\\Anaconda3\\lib\\site-packages\\tensorflow\\python\\keras\\engine\\sequential.py:450: UserWarning: `model.predict_classes()` is deprecated and will be removed after 2021-01-01. Please use instead:* `np.argmax(model.predict(x), axis=-1)`,   if your model does multi-class classification   (e.g. if it uses a `softmax` last-layer activation).* `(model.predict(x) > 0.5).astype(\"int32\")`,   if your model does binary classification   (e.g. if it uses a `sigmoid` last-layer activation).\n",
      "  warnings.warn('`model.predict_classes()` is deprecated and '\n"
     ]
    }
   ],
   "source": [
    "pred=model.predict_classes(x)"
   ]
  },
  {
   "cell_type": "code",
   "execution_count": 24,
   "metadata": {},
   "outputs": [
    {
     "data": {
      "text/plain": [
       "3"
      ]
     },
     "execution_count": 24,
     "metadata": {},
     "output_type": "execute_result"
    }
   ],
   "source": [
    "pred[0]"
   ]
  },
  {
   "cell_type": "code",
   "execution_count": 25,
   "metadata": {},
   "outputs": [
    {
     "name": "stdout",
     "output_type": "stream",
     "text": [
      "sunflower\n"
     ]
    }
   ],
   "source": [
    "print(index[pred[0]])"
   ]
  },
  {
   "cell_type": "code",
   "execution_count": null,
   "metadata": {},
   "outputs": [],
   "source": []
  },
  {
   "cell_type": "code",
   "execution_count": null,
   "metadata": {},
   "outputs": [],
   "source": []
  }
 ],
 "metadata": {
  "kernelspec": {
   "display_name": "Python 3",
   "language": "python",
   "name": "python3"
  },
  "language_info": {
   "codemirror_mode": {
    "name": "ipython",
    "version": 3
   },
   "file_extension": ".py",
   "mimetype": "text/x-python",
   "name": "python",
   "nbconvert_exporter": "python",
   "pygments_lexer": "ipython3",
   "version": "3.7.3"
  }
 },
 "nbformat": 4,
 "nbformat_minor": 2
}
